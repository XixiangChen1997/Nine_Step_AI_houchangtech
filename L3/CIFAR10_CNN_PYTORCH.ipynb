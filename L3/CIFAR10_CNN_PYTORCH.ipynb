{
 "cells": [
  {
   "cell_type": "code",
   "execution_count": 1,
   "metadata": {
    "colab": {},
    "colab_type": "code",
    "id": "2sFKEn7FeVKT"
   },
   "outputs": [],
   "source": [
    "import torch \n",
    "import torch.nn as nn\n",
    "import torch.optim as optim\n",
    "import torchvision\n",
    "import torchvision.datasets as datasets\n",
    "import torchvision.transforms as transforms\n",
    "from torch.utils.data import DataLoader\n",
    "import matplotlib.pyplot as plt\n",
    "%matplotlib inline"
   ]
  },
  {
   "cell_type": "code",
   "execution_count": 3,
   "metadata": {
    "colab": {
     "base_uri": "https://localhost:8080/",
     "height": 50
    },
    "colab_type": "code",
    "id": "zGOIAH7lfOZv",
    "outputId": "ecdafa50-bde7-4eb2-c18c-0f4cf13d7cbe"
   },
   "outputs": [],
   "source": [
    "#数据加载\n",
    "train_data = datasets.CIFAR10(root='.', train=True, transform=transforms.ToTensor(), download = False)\n",
    "test_data = datasets.CIFAR10(root='.', train = False, transform=transforms.ToTensor(), download=False)"
   ]
  },
  {
   "cell_type": "code",
   "execution_count": 2,
   "metadata": {
    "colab": {},
    "colab_type": "code",
    "id": "p9gcBpROs89x"
   },
   "outputs": [],
   "source": [
    "#超参数定义\n",
    "EPOCH = 10\n",
    "BATCH_SIZE = 30\n",
    "LR = 0.001\n"
   ]
  },
  {
   "cell_type": "code",
   "execution_count": null,
   "metadata": {
    "colab": {
     "base_uri": "https://localhost:8080/",
     "height": 283
    },
    "colab_type": "code",
    "id": "xPqkq4zCgbej",
    "outputId": "16e37785-4b6f-46e0-d615-43be11a6699d"
   },
   "outputs": [
    {
     "name": "stdout",
     "output_type": "stream",
     "text": [
      "(32, 32, 3)\n"
     ]
    }
   ],
   "source": [
    "'''\n",
    "####################执行本模块会有kernel restart的错误########################\n",
    "#图像展示\n",
    "temp = train_data[1][0].numpy()\n",
    "#print(temp.shape) #(3, 32, 32) need to be transpose as (32, 32, 3)\n",
    "temp = temp.transpose(1, 2, 0)\n",
    "print(temp.shape)\n",
    "plt.imshow(temp)\n",
    "plt.show()\n",
    "###########################################################################\n",
    "\n",
    "Problem:\n",
    "The problem is that the image box is using the same Python process as the kernel. When you execute this from an interactive shell, the shell waits for you to get back from the image display box. But Jupyter wants to claim control back after you executed a command block. Therefore it is not happy to wait for the window, and you lose control of the Python process, crashing everything.\n",
    "Solution:\n",
    "To solve this, you need to explicitly close the window when you are done with it. To accomplish this, you can use the cv2.destroyAllWindows() functionality.\n",
    "Since you probably don’t want your screen to close immediately, you can tell OpenCV to wait for a keypress. You can specify which key, but it is best to accept any key\n",
    "Tips:\n",
    "To exit the window, DON’T CLICK THE RED CROSS, just tap any key on your keyboard!If you do close with the cross, you won’t let OpenCV close the box for you, and Jupyter will stay waiting, causing you to have to reset the kernel yourself.\n",
    "'''\n",
    "\n",
    "#解决方案如下\n",
    "import cv2\n",
    "temp = train_data[1][0].numpy()\n",
    "#print(temp.shape) \n",
    "temp = temp.transpose(1, 2, 0)\n",
    "cv2.imshow('test temp',temp) \n",
    "cv2.waitKey(0)  #wait for any keyboard input to close the image window\n",
    "cv2.destroyAllWindows() #close the image window"
   ]
  },
  {
   "cell_type": "code",
   "execution_count": 4,
   "metadata": {
    "colab": {},
    "colab_type": "code",
    "id": "4k3ZzFsIsio-"
   },
   "outputs": [],
   "source": [
    "#DataLoader分批加载 batch\n",
    "train_load = DataLoader(dataset = train_data, batch_size = BATCH_SIZE, shuffle = True )\n",
    "test_load = DataLoader(dataset = test_data, batch_size = BATCH_SIZE, shuffle = True )\n"
   ]
  },
  {
   "cell_type": "code",
   "execution_count": 5,
   "metadata": {
    "colab": {},
    "colab_type": "code",
    "id": "YCvV7iWpt7ik"
   },
   "outputs": [],
   "source": [
    "#ResNet50 \n",
    "model = torchvision.models.resnet50(pretrained = False)\n",
    "\n",
    "#Loss\n",
    "criterion = nn.CrossEntropyLoss()\n",
    "optimizer = optim.Adam(model.parameters(), lr=LR)\n",
    "\n",
    "#use GPU \n",
    "device = torch.device('cuda:0' if torch.cuda.is_available() else 'cpu')\n",
    "## model and inputdata - to(device)\n",
    "model = model.to(device)\n"
   ]
  },
  {
   "cell_type": "code",
   "execution_count": 6,
   "metadata": {
    "colab": {
     "base_uri": "https://localhost:8080/",
     "height": 441
    },
    "colab_type": "code",
    "id": "YB94EEs_u6qp",
    "outputId": "fb4662db-dcf6-4322-acd9-ce242cf5be05"
   },
   "outputs": [
    {
     "name": "stdout",
     "output_type": "stream",
     "text": [
      "epoch1, loss1.8213\n",
      "epoch2, loss1.1256\n",
      "epoch3, loss1.4377\n",
      "epoch4, loss1.9522\n",
      "epoch5, loss0.9694\n",
      "epoch6, loss1.0403\n",
      "epoch7, loss1.0708\n",
      "epoch8, loss0.8111\n",
      "epoch9, loss0.6763\n",
      "epoch10, loss0.3536\n",
      "cifar10_resnet.pt saved\n"
     ]
    }
   ],
   "source": [
    "#训练过程\n",
    "for epoch in range(EPOCH):\n",
    "    for i, data in enumerate(train_load):\n",
    "        inputs, labels = data\n",
    "        inputs, labels = inputs.to(device), labels.to(device)\n",
    "        #前向传播\n",
    "        outputs = model(inputs)\n",
    "        #计算Loss\n",
    "        loss = criterion(outputs, labels)\n",
    "        #梯度清零\n",
    "        optimizer.zero_grad()\n",
    "        #反向传播\n",
    "        loss.backward()\n",
    "        #参数更新\n",
    "        optimizer.step()\n",
    "    print('epoch{}, loss{:.4f}'.format(epoch+1, loss.item()))\n",
    "    \n",
    "torch.save(model, 'cifar10_resnet.pt')\n",
    "print('cifar10_resnet.pt saved')"
   ]
  },
  {
   "cell_type": "code",
   "execution_count": 7,
   "metadata": {
    "colab": {},
    "colab_type": "code",
    "id": "muLEovVTxn-f"
   },
   "outputs": [
    {
     "name": "stdout",
     "output_type": "stream",
     "text": [
      "test accuracy: 90.0000%\n"
     ]
    }
   ],
   "source": [
    "#模型加载\n",
    "model = torch.load('cifar10_resnet.pt')\n",
    "#测试\n",
    "model.eval() #指定model在BN和Dropout等操作时使用训练好的参数\n",
    "correct, total = 0, 0\n",
    "for data in test_load:\n",
    "    inputs, labels = inputs.to(device), labels.to(device)\n",
    "    #front propagation\n",
    "    outputs = model(inputs)\n",
    "    _, predicted = torch.max(outputs.data, 1)\n",
    "    total = total + labels.size(0)\n",
    "    correct = correct + (predicted == labels).sum().item()\n",
    "\n",
    "#输出测试集准确率\n",
    "print('test accuracy: {:.4f}%'.format(100.0*correct/total))"
   ]
  },
  {
   "cell_type": "raw",
   "metadata": {},
   "source": [
    "cite:\n",
    "1. imshow() crashes kernel: https://medium.com/@mrdatainsight/how-to-use-opencv-imshow-in-a-jupyter-notebook-quick-tip-ce83fa32b5ad\n"
   ]
  }
 ],
 "metadata": {
  "colab": {
   "name": "CIFAR10_CNN_PYTORCH.ipynb",
   "provenance": []
  },
  "kernelspec": {
   "display_name": "Python 3",
   "language": "python",
   "name": "python3"
  },
  "language_info": {
   "codemirror_mode": {
    "name": "ipython",
    "version": 3
   },
   "file_extension": ".py",
   "mimetype": "text/x-python",
   "name": "python",
   "nbconvert_exporter": "python",
   "pygments_lexer": "ipython3",
   "version": "3.6.10"
  }
 },
 "nbformat": 4,
 "nbformat_minor": 4
}
