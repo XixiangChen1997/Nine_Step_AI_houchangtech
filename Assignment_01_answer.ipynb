{
 "cells": [
  {
   "cell_type": "markdown",
   "metadata": {},
   "source": [
    "# Assignment 1\n"
   ]
  },
  {
   "cell_type": "markdown",
   "metadata": {},
   "source": [
    "#### 1. 复习上课内容以及复现课程代码"
   ]
  },
  {
   "cell_type": "markdown",
   "metadata": {},
   "source": [
    "在本部分，你需要在复习上课内容和课程代码后，复现课程代码。 "
   ]
  },
  {
   "cell_type": "markdown",
   "metadata": {},
   "source": [
    "#### 2. 回答以下理论题目"
   ]
  },
  {
   "cell_type": "markdown",
   "metadata": {},
   "source": [
    "###### 2.1 What conditions are required to make the BFS return the optimal solution ?\n",
    "1、每一步的cost值非负  \n",
    "2、每一步优先选择当前cost值最小的节点进行搜索"
   ]
  },
  {
   "cell_type": "markdown",
   "metadata": {},
   "source": [
    "##### 2.2 Is there a way to make DFS find the optimal solution ? (You may need to read some material about iterative DFS)\n",
    "没有办法保证找到最优解。"
   ]
  },
  {
   "cell_type": "markdown",
   "metadata": {},
   "source": [
    "##### 2.3 In what conditions BFS is a better choice than DFS and vice versa ?\n",
    "当求解目的是必须找到最优解时，要使用BFS。  \n",
    "当求解目标是只要找到解即可，而且内存大小受限，则要使用DFS。"
   ]
  },
  {
   "cell_type": "markdown",
   "metadata": {},
   "source": [
    "##### 2.4 When can we use machine learning ?\n",
    "机器学习是从数据中发现规律。当我们的使用场景是有大量数据可用于训练，而且规律存在于数据中，则可使用机器学习。"
   ]
  },
  {
   "cell_type": "markdown",
   "metadata": {},
   "source": [
    "##### 2.5 What is the gradient of a function ?\n",
    "函数值变化最快的方向是梯度的方向，这个方向的导数就是梯度的大小。"
   ]
  },
  {
   "cell_type": "markdown",
   "metadata": {},
   "source": [
    "##### 2.6 How can we find the maximum value of a function using the information of gradient ?\n",
    "我们使用梯度下降法来求函数最小值。如果要求函数最大值，就给这个函数加个负号，就转化为求最小值了。"
   ]
  },
  {
   "cell_type": "markdown",
   "metadata": {},
   "source": [
    "#### 3. 实践部分  寻找地铁路线"
   ]
  },
  {
   "cell_type": "markdown",
   "metadata": {},
   "source": [
    "In this part, although we recommend you to use Beijing subway, you still can use the subway map of any cities that you are interested in. "
   ]
  },
  {
   "cell_type": "markdown",
   "metadata": {},
   "source": [
    "Please using the search policy to implement an agent. This agent receives two input, one is @param start station and the other is @param destination. Your agent should give the optimal route based on Beijing Subway system."
   ]
  },
  {
   "cell_type": "markdown",
   "metadata": {},
   "source": [
    "#### Procedures"
   ]
  },
  {
   "cell_type": "markdown",
   "metadata": {},
   "source": [
    "#### 1. Get data from web.  "
   ]
  },
  {
   "cell_type": "markdown",
   "metadata": {},
   "source": [
    "Some tips: "
   ]
  },
  {
   "cell_type": "markdown",
   "metadata": {},
   "source": [
    "a. You might need this package: requests[https://2.python-requests.org/en/master/] to get webpages"
   ]
  },
  {
   "cell_type": "markdown",
   "metadata": {},
   "source": [
    "b.You might need to use Regular Expression and Beautiful Soap package to parse the webpages"
   ]
  },
  {
   "cell_type": "markdown",
   "metadata": {},
   "source": [
    "##### 2. Preprocessing data"
   ]
  },
  {
   "cell_type": "markdown",
   "metadata": {},
   "source": [
    "Some tips:"
   ]
  },
  {
   "cell_type": "markdown",
   "metadata": {},
   "source": [
    "a. Find a suitable way to save the data you get from the web. (Note: The way you use to save the data should be able to be used to create the graph that your agent is going to explore)"
   ]
  },
  {
   "cell_type": "markdown",
   "metadata": {},
   "source": [
    "#### 3. Build the search agent"
   ]
  },
  {
   "cell_type": "markdown",
   "metadata": {},
   "source": [
    "Build the search agent based ont he graph you built."
   ]
  },
  {
   "cell_type": "markdown",
   "metadata": {},
   "source": [
    "for example, if you use Beijing subway graoh, and you run:"
   ]
  },
  {
   "cell_type": "markdown",
   "metadata": {},
   "source": [
    "\\>>> search(\"奥体中心“，”天安门“）"
   ]
  },
  {
   "cell_type": "markdown",
   "metadata": {},
   "source": [
    "You should get the result as follows: 奥体中心 -> A ->B ->C ... -> 天安门"
   ]
  },
  {
   "cell_type": "markdown",
   "metadata": {},
   "source": [
    "### (Optional) Improve your agent to make it able to find a path based on different strategies"
   ]
  },
  {
   "cell_type": "markdown",
   "metadata": {},
   "source": [
    "Some ideas you might want to try:"
   ]
  },
  {
   "cell_type": "markdown",
   "metadata": {},
   "source": [
    "a. Find the shortest path between two stations."
   ]
  },
  {
   "cell_type": "markdown",
   "metadata": {},
   "source": [
    "b. Find the path that requires minimum transfers between two stations."
   ]
  },
  {
   "cell_type": "markdown",
   "metadata": {},
   "source": [
    "c. Combine the previous two ideas, find a more suitable path."
   ]
  },
  {
   "cell_type": "markdown",
   "metadata": {},
   "source": [
    "Compare your results with results obtained by using some apps such as Baidu map, A map, Google map or Apple map. If there is difference, try to explanate it."
   ]
  },
  {
   "cell_type": "code",
   "execution_count": null,
   "metadata": {},
   "outputs": [],
   "source": [
    "# 获取URL数据（北京地铁数据，来自高德）：http://map.amap.com/service/subway?_1469083453978&srhdata=1100_drw_beijing.json\n",
    "import requests\n",
    "import re\n",
    "import numpy as np\n",
    "r = requests.get('http://map.amap.com/service/subway?_1469083453978&srhdata=1100_drw_beijing.json')"
   ]
  },
  {
   "cell_type": "code",
   "execution_count": null,
   "metadata": {},
   "outputs": [],
   "source": [
    "def get_lines_stations_info(text):\n",
    "    # 遍历text格式数据，组成地点数据结构\n",
    "    # 所有线路信息的dict：key：线路名称；value：站点名称list\n",
    "    lines_info = {}\n",
    "    # 所有站点信息的dict：key：站点名称；value：站点坐标(x,y)\n",
    "    stations_info = {}\n",
    "\n",
    "    pattern = re.compile('\"st\".*?\"kn\"')\n",
    "    lines_list = pattern.findall(text)\n",
    "    for i in range(len(lines_list)):\n",
    "        # 地铁线路名\n",
    "        pattern = re.compile('\"ln\":\".*?\"')\n",
    "        line_name = pattern.findall(lines_list[i])[0][6:-1]\n",
    "        # 站点信息list\n",
    "        pattern = re.compile('\"rs\".*?\"sp\"')\n",
    "        temp_list = pattern.findall(lines_list[i])\n",
    "        station_name_list = []\n",
    "        for j in range(len(temp_list)):\n",
    "            # 站名\n",
    "            pattern = re.compile('\"n\":\".*?\"')\n",
    "            station_name = pattern.findall(temp_list[j])[0][5:-1]\n",
    "            station_name_list.append(station_name)\n",
    "            # 坐标(x,y)\n",
    "            pattern = re.compile('\"sl\":\".*?\"')\n",
    "            position = tuple(map(float, pattern.findall(temp_list[j])[0][6:-1].split(',')))\n",
    "            # 数据加入站点信息dict\n",
    "            stations_info[station_name] = position\n",
    "\n",
    "        # 数据加入地铁线路dict\n",
    "        lines_info[line_name] = station_name_list\n",
    "    return lines_info, stations_info\n",
    "\n",
    "lines_info, stations_info = get_lines_stations_info(r.text)\n",
    "stations_info"
   ]
  },
  {
   "cell_type": "code",
   "execution_count": null,
   "metadata": {},
   "outputs": [],
   "source": [
    "lines_info"
   ]
  },
  {
   "cell_type": "code",
   "execution_count": null,
   "metadata": {},
   "outputs": [],
   "source": [
    "len(lines_info)"
   ]
  },
  {
   "cell_type": "code",
   "execution_count": null,
   "metadata": {},
   "outputs": [],
   "source": [
    "def get_neighbor_info(lines_info):\n",
    "    # 把str2加入str1站点的邻接表中\n",
    "    def add_neighbor_dict(info, str1, str2):\n",
    "        list1 = info.get(str1)\n",
    "        if not list1:\n",
    "            list1 = []\n",
    "        list1.append(str2)\n",
    "        info[str1] = list1\n",
    "        return info\n",
    "\n",
    "    # 根据线路信息，建立站点邻接表dict\n",
    "    neighbor_info = {}\n",
    "    for line_name,station_list in lines_info.items():\n",
    "        for i in range(len(station_list) - 1):\n",
    "            sta1 = station_list[i]\n",
    "            sta2 = station_list[i+1]\n",
    "            neighbor_info = add_neighbor_dict(neighbor_info, sta1, sta2)\n",
    "            neighbor_info = add_neighbor_dict(neighbor_info, sta2, sta1)\n",
    "            \n",
    "    return neighbor_info\n",
    "        \n",
    "neighbor_info = get_neighbor_info(lines_info)\n",
    "neighbor_info"
   ]
  },
  {
   "cell_type": "code",
   "execution_count": null,
   "metadata": {},
   "outputs": [],
   "source": [
    "# 画地铁图\n",
    "import networkx as nx\n",
    "import matplotlib\n",
    "import matplotlib.pyplot as plt\n",
    "# 此代码解决不显示汉字的问题\n",
    "matplotlib.rcParams['font.sans-serif'] = ['SimHei'] \n",
    "# matplotlib.rcParams['font.family']='sans-serif'\n",
    "plt.figure(figsize=(20,20))\n",
    "stations_graph = nx.Graph()\n",
    "stations_graph.add_nodes_from(list(stations_info.keys()))\n",
    "nx.draw(stations_graph, stations_info, with_labels=True, node_size=10)"
   ]
  },
  {
   "cell_type": "code",
   "execution_count": null,
   "metadata": {},
   "outputs": [],
   "source": [
    "stations_connection_graph = nx.Graph(neighbor_info)\n",
    "plt.figure(figsize=(30,30))\n",
    "nx.draw(stations_connection_graph,stations_info,with_labels=True,node_size=10)"
   ]
  },
  {
   "cell_type": "code",
   "execution_count": 12,
   "metadata": {},
   "outputs": [
    {
     "data": {
      "text/plain": [
       "120"
      ]
     },
     "execution_count": 12,
     "metadata": {},
     "output_type": "execute_result"
    }
   ],
   "source": []
  },
  {
   "cell_type": "code",
   "execution_count": null,
   "metadata": {},
   "outputs": [],
   "source": [
    "# 第一种算法：递归查找所有路径\n",
    "def get_path_DFS_ALL(lines_info, neighbor_info, from_station, to_station):\n",
    "    # 递归算法，本质上是深度优先\n",
    "    # 遍历所有路径\n",
    "    # 这种情况下，站点间的坐标距离难以转化为可靠的启发函数，所以只用简单的BFS算法\n",
    "    \n",
    "    # 检查输入站点名称\n",
    "    if not neighbor_info.get(from_station):\n",
    "        print('起始站点“%s”不存在。请正确输入！'%from_station)\n",
    "        return None\n",
    "    if not neighbor_info.get(to_station):\n",
    "        print('目的站点“%s”不存在。请正确输入！'%to_station)\n",
    "        return None\n",
    "    path = []\n",
    "    this_station = from_station\n",
    "    path.append(this_station)\n",
    "    neighbors = neighbor_info.get(this_station)\n",
    "    node = {'pre_station':'',\n",
    "            'this_station':this_station,\n",
    "            'neighbors':neighbors,\n",
    "            'path':path}\n",
    "    \n",
    "    return get_next_station_DFS_ALL(node, neighbor_info, to_station)\n",
    "\n",
    "def get_next_station_DFS_ALL(node, neighbor_info, to_station):\n",
    "    neighbors = node.get('neighbors')\n",
    "    pre_station = node.get('this_station')\n",
    "    path = node.get('path')\n",
    "    paths = []\n",
    "    for i in range(len(neighbors)):\n",
    "        this_station = neighbors[i]\n",
    "        if (this_station in path):\n",
    "            # 如果此站点已经在路径中，说明环路，此路不通\n",
    "            return None\n",
    "        if neighbors[i] == to_station:\n",
    "            # 找到终点，返回路径\n",
    "            path.append(to_station)\n",
    "            paths.append(path)\n",
    "            return paths\n",
    "        else:\n",
    "            neighbors_ = neighbor_info.get(this_station).copy()\n",
    "            neighbors_.remove(pre_station)\n",
    "            path_ = path.copy()\n",
    "            path_.append(this_station)\n",
    "            new_node = {'pre_station':pre_station,\n",
    "                        'this_station':this_station,\n",
    "                        'neighbors':neighbors_,\n",
    "                        'path':path_}\n",
    "            paths_ =  get_next_station_DFS_ALL(new_node, neighbor_info, to_station)\n",
    "            if paths_:\n",
    "                paths.extend(paths_)\n",
    "\n",
    "    return paths\n",
    "\n",
    "paths = get_path_DFS_ALL(lines_info, neighbor_info, '回龙观', '西二旗')\n",
    "print('共有%d种路径。'%len(paths))\n",
    "for item in paths:\n",
    "    print(\"此路径总计%d站:\"%(len(item)-1))\n",
    "    print('-'.join(item))"
   ]
  },
  {
   "cell_type": "code",
   "execution_count": null,
   "metadata": {},
   "outputs": [],
   "source": []
  },
  {
   "cell_type": "code",
   "execution_count": null,
   "metadata": {},
   "outputs": [],
   "source": [
    "# 第二种算法：没有启发函数的简单宽度优先\n",
    "def get_path_BFS(lines_info, neighbor_info, from_station, to_station):\n",
    "    # 搜索策略：以站点数量为cost（因为车票价格是按站算的）\n",
    "    # 这种情况下，站点间的坐标距离难以转化为可靠的启发函数，所以只用简单的BFS算法\n",
    "    # 由于每深一层就是cost加1，所以每层的cost都相同，算和不算没区别，所以省略\n",
    "    \n",
    "    # 检查输入站点名称\n",
    "    if not neighbor_info.get(from_station):\n",
    "        print('起始站点“%s”不存在。请正确输入！'%from_station)\n",
    "        return None\n",
    "    if not neighbor_info.get(to_station):\n",
    "        print('目的站点“%s”不存在。请正确输入！'%to_station)\n",
    "        return None\n",
    "    \n",
    "    # 搜索节点是个dict，key=站名，value是包含路过的站点list\n",
    "    nodes = {}\n",
    "    nodes[from_station] = [from_station]\n",
    "    \n",
    "    while True:\n",
    "        new_nodes = {}\n",
    "        for (k,v) in nodes.items():\n",
    "            neighbor = neighbor_info.get(k).copy()\n",
    "            if (len(v) >= 2):\n",
    "                # 不往上一站走\n",
    "                pre_station = v[-2]\n",
    "                neighbor.remove(pre_station)\n",
    "            for station in neighbor:\n",
    "                # 遍历邻居\n",
    "                if station in nodes:\n",
    "                    # 跳过已搜索过的节点\n",
    "                    continue\n",
    "                path = v.copy()\n",
    "                path.append(station)\n",
    "                new_nodes[station] = path\n",
    "                if station == to_station:\n",
    "                    # 找到路径，结束\n",
    "                    return path\n",
    "        nodes = new_nodes\n",
    "        \n",
    "    print('未能找到路径')\n",
    "    return None\n",
    "\n",
    "paths = get_path_BFS(lines_info, neighbor_info, '回龙观', '西二旗')\n",
    "print(\"路径总计%d站。\"%(len(paths)-1))\n",
    "print(\"-\".join(paths))\n",
    "# 高德导航是31站，只有1次换乘\n",
    "# 代码结果是28站，但是有5次换乘\n",
    "# 猜测高德的路径cost主要是时间"
   ]
  },
  {
   "cell_type": "code",
   "execution_count": null,
   "metadata": {},
   "outputs": [],
   "source": [
    "# 第三种算法：以路径路程为cost的启发式搜索\n",
    "import pandas as pd\n",
    "def get_path_Astar(lines_info, neighbor_info, stations_info, from_station, to_station):\n",
    "    # 搜索策略：以路径的站点间直线距离累加为cost，以当前站点到目标的直线距离为启发函数\n",
    "    \n",
    "    \n",
    "    # 检查输入站点名称\n",
    "    if not neighbor_info.get(from_station):\n",
    "        print('起始站点“%s”不存在。请正确输入！'%from_station)\n",
    "        return None\n",
    "    if not neighbor_info.get(to_station):\n",
    "        print('目的站点“%s”不存在。请正确输入！'%to_station)\n",
    "        return None\n",
    "    \n",
    "    # 计算所有节点到目标节点的直线距离，备用\n",
    "    distances = {}\n",
    "    x,y = stations_info.get(to_station)\n",
    "    for (k,v) in stations_info.items():\n",
    "        x0,y0 = stations_info.get(k)\n",
    "        l = ((x-x0)**2 + (y-y0)**2)**0.5\n",
    "        distances[k] = l\n",
    "        \n",
    "    # 已搜索过的节点，dict\n",
    "    # key=站点名称，value是已知的起点到此站点的最小cost\n",
    "    searched = {}\n",
    "    searched[from_station] = 0\n",
    "    \n",
    "    # 数据结构为pandas的dataframe\n",
    "    # index为站点名称\n",
    "    # g为已走路径，h为启发函数值（当前到目标的直线距离）\n",
    "    nodes = pd.DataFrame([[[from_station], 0, 0, distances.get(from_station)]],\n",
    "                         index=[from_station], columns=['path', 'cost', 'g', 'h']) \n",
    "    \n",
    "    count = 0\n",
    "    while True:\n",
    "        if count > 1000:\n",
    "            break\n",
    "        nodes.sort_values('cost', inplace=True)\n",
    "        for index, node in nodes.iterrows():\n",
    "            count += 1\n",
    "            # 向邻居中离目的地最短的那个站点搜索\n",
    "            neighbors = neighbor_info.get(index).copy()\n",
    "            if len(node['path']) >= 2:\n",
    "                # 不向这个路径的反向去搜索\n",
    "                neighbors.remove(node['path'][-2])\n",
    "            for i in range(len(neighbors)):\n",
    "                count += 1\n",
    "                neighbor = neighbors[i]\n",
    "                g = node['g'] + get_distance(stations_info, index, neighbor)\n",
    "                h = distances[neighbor]\n",
    "                cost = g + h\n",
    "                path = node['path'].copy()\n",
    "                path.append(neighbor)\n",
    "                if neighbor == to_station:\n",
    "                    # 找到目标，结束\n",
    "                    print('共检索%d次。'%count)\n",
    "                    return path\n",
    "                if neighbor in searched:\n",
    "                    if g >= searched[neighbor]:\n",
    "                        # 说明现在搜索的路径不是最优，忽略\n",
    "                        continue\n",
    "                    else:\n",
    "                        searched[neighbor] = g\n",
    "                        # 修改此站点对应的node信息\n",
    "#                         nodes.loc[neighbor, 'path'] = path # 这行总是报错\n",
    "#                         nodes.loc[neighbor, 'cost'] = cost\n",
    "#                         nodes.loc[neighbor, 'g'] = g\n",
    "#                         nodes.loc[neighbor, 'h'] = h\n",
    "                        # 不知道怎么修改df中的list元素，只能删除再新增行\n",
    "                        nodes.drop(neighbor, axis=0, inplace=True)\n",
    "                        row = pd.DataFrame([[path, cost, g, h]],\n",
    "                                       index=[neighbor], columns=['path', 'cost', 'g', 'h'])\n",
    "                        nodes = nodes.append(row)\n",
    "                        \n",
    "                else:\n",
    "                    searched[neighbor] = g\n",
    "                    row = pd.DataFrame([[path, cost, g, h]],\n",
    "                                       index=[neighbor], columns=['path', 'cost', 'g', 'h'])\n",
    "                    nodes = nodes.append(row)\n",
    "            # 这个站点的所有邻居都搜索完了，删除这个节点\n",
    "            nodes.drop(index, axis=0, inplace=True)\n",
    "\n",
    "        # 外层for循环只跑第一行数据，然后重新sort后再计算\n",
    "        continue         \n",
    "        \n",
    "    print('未能找到路径')\n",
    "    return None\n",
    "\n",
    "def get_distance(stations_info, str1, str2):\n",
    "    x1,y1 = stations_info.get(str1)\n",
    "    x2,y2 = stations_info.get(str2)\n",
    "    return ((x1-x2)**2 + (y1-y2)**2)** 0.5\n",
    "\n",
    "paths = get_path_Astar(lines_info, neighbor_info, stations_info, '回龙观', '西二旗')\n",
    "if paths:\n",
    "    print(\"路径总计%d站。\"%(len(paths)-1))\n",
    "    print(\"-\".join(paths))\n",
    "# 高德导航是31站，只有1次换乘\n",
    "# 代码结果是28站，与以地铁站数为cost的结果相同，但是路径不同（从第一种遍历的算法能看到，28站到达目的地的路径有3种）\n",
    "# 猜测高德的路径cost主要是时间"
   ]
  }
 ],
 "metadata": {
  "kernelspec": {
   "display_name": "Python 3",
   "language": "python",
   "name": "python3"
  },
  "language_info": {
   "codemirror_mode": {
    "name": "ipython",
    "version": 3
   },
   "file_extension": ".py",
   "mimetype": "text/x-python",
   "name": "python",
   "nbconvert_exporter": "python",
   "pygments_lexer": "ipython3",
   "version": "3.6.10"
  }
 },
 "nbformat": 4,
 "nbformat_minor": 4
}
